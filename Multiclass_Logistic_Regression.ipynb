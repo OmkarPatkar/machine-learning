{
  "nbformat": 4,
  "nbformat_minor": 0,
  "metadata": {
    "colab": {
      "name": "Multiclass_Logistic_Regression.ipynb",
      "provenance": [],
      "authorship_tag": "ABX9TyPRbtyNWksz1IbGLHA7HG38",
      "include_colab_link": true
    },
    "kernelspec": {
      "name": "python3",
      "display_name": "Python 3"
    },
    "language_info": {
      "name": "python"
    }
  },
  "cells": [
    {
      "cell_type": "markdown",
      "metadata": {
        "id": "view-in-github",
        "colab_type": "text"
      },
      "source": [
        "<a href=\"https://colab.research.google.com/github/OmkarPatkar/machine-learning/blob/main/Multiclass_Logistic_Regression.ipynb\" target=\"_parent\"><img src=\"https://colab.research.google.com/assets/colab-badge.svg\" alt=\"Open In Colab\"/></a>"
      ]
    },
    {
      "cell_type": "markdown",
      "metadata": {
        "id": "Aw2k9Lz5c8S0"
      },
      "source": [
        "# Multiclass Logistic Regression\n",
        "**One Vs. Rest Logistic Regression**\n",
        "\n",
        "* On their own, logistic regressions are only binary classifiers, meaning they cannot handle target vectors with more than two classes.\n",
        "* We can handle this by passing a parameter one-vs-rest(ovr).\n",
        "* In one-vs-rest logistic regression (OVR) a separate model is trained for each class predicted whether an observation is that class or not (thus making it a binary classification problem).\n",
        "* It assumes that each classification problem (e.g. class 0 or not) is independent.\n",
        "\n",
        "\n",
        "**Source :**\n",
        "https://chrisalbon.com/machine_learning/logistic_regression/one-vs-rest_logistic_regression/\n"
      ]
    },
    {
      "cell_type": "code",
      "metadata": {
        "id": "VstPdkwjcV4R"
      },
      "source": [
        "# Load Libraries\n",
        "from sklearn.linear_model import LogisticRegression\n",
        "from sklearn import datasets\n",
        "from sklearn.preprocessing import StandardScaler"
      ],
      "execution_count": 11,
      "outputs": []
    },
    {
      "cell_type": "code",
      "metadata": {
        "id": "Ratm4qb5ewO2"
      },
      "source": [
        "# Load iris flower data\n",
        "iris = datasets.load_iris()\n",
        "x = iris.data\n",
        "y = iris.target"
      ],
      "execution_count": 12,
      "outputs": []
    },
    {
      "cell_type": "code",
      "metadata": {
        "id": "7aYQUMs6fC-Y"
      },
      "source": [
        "# Standardize features\n",
        "scaler = StandardScaler()\n",
        "x_std = scaler.fit_transform(x)"
      ],
      "execution_count": 13,
      "outputs": []
    },
    {
      "cell_type": "code",
      "metadata": {
        "id": "iBxXlBAifSZK"
      },
      "source": [
        "# Create one-vs-rest logistic regression object\n",
        "clf = LogisticRegression(random_state = 0, multi_class = 'ovr')"
      ],
      "execution_count": 14,
      "outputs": []
    },
    {
      "cell_type": "code",
      "metadata": {
        "id": "YAE97uMkfczr"
      },
      "source": [
        "# Train model\n",
        "model = clf.fit(x_std, y)"
      ],
      "execution_count": 15,
      "outputs": []
    },
    {
      "cell_type": "code",
      "metadata": {
        "id": "zJYD8hLWfvxA"
      },
      "source": [
        "# Create new observation\n",
        "new_data = [[.5, .5, .5, .5]]"
      ],
      "execution_count": 16,
      "outputs": []
    },
    {
      "cell_type": "code",
      "metadata": {
        "colab": {
          "base_uri": "https://localhost:8080/"
        },
        "id": "ffVrnKuDf5Bu",
        "outputId": "50111b2f-2252-4dce-f56c-dbd230a9b979"
      },
      "source": [
        "# Predict class\n",
        "model.predict(new_data)"
      ],
      "execution_count": 17,
      "outputs": [
        {
          "output_type": "execute_result",
          "data": {
            "text/plain": [
              "array([2])"
            ]
          },
          "metadata": {
            "tags": []
          },
          "execution_count": 17
        }
      ]
    },
    {
      "cell_type": "code",
      "metadata": {
        "colab": {
          "base_uri": "https://localhost:8080/"
        },
        "id": "pI5EAXplf-zv",
        "outputId": "d134d4f9-a49e-4d20-ee5f-575f115fe583"
      },
      "source": [
        "# View predicted probabilities\n",
        "model.predict_proba(new_data)"
      ],
      "execution_count": 18,
      "outputs": [
        {
          "output_type": "execute_result",
          "data": {
            "text/plain": [
              "array([[0.0387617 , 0.40669108, 0.55454723]])"
            ]
          },
          "metadata": {
            "tags": []
          },
          "execution_count": 18
        }
      ]
    },
    {
      "cell_type": "code",
      "metadata": {
        "id": "pl7M0Pp9gFkg"
      },
      "source": [
        ""
      ],
      "execution_count": 18,
      "outputs": []
    }
  ]
}
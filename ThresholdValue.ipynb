{
  "nbformat": 4,
  "nbformat_minor": 0,
  "metadata": {
    "colab": {
      "name": "ThresholdValue.ipynb",
      "provenance": [],
      "authorship_tag": "ABX9TyMWxFVrUvjLK0SyE3Bjz8rX",
      "include_colab_link": true
    },
    "kernelspec": {
      "name": "python3",
      "display_name": "Python 3"
    },
    "language_info": {
      "name": "python"
    }
  },
  "cells": [
    {
      "cell_type": "markdown",
      "metadata": {
        "id": "view-in-github",
        "colab_type": "text"
      },
      "source": [
        "<a href=\"https://colab.research.google.com/github/OmkarPatkar/machine-learning/blob/main/ThresholdValue.ipynb\" target=\"_parent\"><img src=\"https://colab.research.google.com/assets/colab-badge.svg\" alt=\"Open In Colab\"/></a>"
      ]
    },
    {
      "cell_type": "markdown",
      "metadata": {
        "id": "i5KnWlcPq9aK"
      },
      "source": [
        "# **Select the Right Threshold values using ROC Curve**"
      ]
    },
    {
      "cell_type": "code",
      "metadata": {
        "id": "P5dAGKS5bUpM"
      },
      "source": [
        "# Load Libraries\n",
        "\n",
        "import numpy as np\n",
        "import pandas as pd\n",
        "import matplotlib.pyplot as plt\n",
        "import seaborn as sns\n",
        "from sklearn.datasets import make_classification\n",
        "from sklearn.model_selection import train_test_split\n",
        "from sklearn.metrics import roc_auc_score, roc_curve"
      ],
      "execution_count": 72,
      "outputs": []
    },
    {
      "cell_type": "code",
      "metadata": {
        "id": "uGUMhC9FrahZ"
      },
      "source": [
        "# Create dataset\n",
        "\n",
        "x, y = make_classification(n_samples = 2000, n_classes = 2, weights = [1,1], random_state = 0) "
      ],
      "execution_count": 73,
      "outputs": []
    },
    {
      "cell_type": "code",
      "metadata": {
        "colab": {
          "base_uri": "https://localhost:8080/"
        },
        "id": "GiZs4o5LrwHo",
        "outputId": "8615e0e3-ccff-424e-ba95-3417c40c8deb"
      },
      "source": [
        "# Shape of the data\n",
        "\n",
        "x.shape"
      ],
      "execution_count": 74,
      "outputs": [
        {
          "output_type": "execute_result",
          "data": {
            "text/plain": [
              "(2000, 20)"
            ]
          },
          "metadata": {
            "tags": []
          },
          "execution_count": 74
        }
      ]
    },
    {
      "cell_type": "code",
      "metadata": {
        "colab": {
          "base_uri": "https://localhost:8080/"
        },
        "id": "nJBc9vavrxan",
        "outputId": "efe7c32a-459a-43ea-94fa-31a2fb0ce79a"
      },
      "source": [
        "y"
      ],
      "execution_count": 75,
      "outputs": [
        {
          "output_type": "execute_result",
          "data": {
            "text/plain": [
              "array([1, 1, 1, ..., 0, 1, 0])"
            ]
          },
          "metadata": {
            "tags": []
          },
          "execution_count": 75
        }
      ]
    },
    {
      "cell_type": "code",
      "metadata": {
        "id": "Ls1XS0WVxQTv"
      },
      "source": [
        "# Split the data for model building\n",
        "\n",
        "x_train, x_test, y_train, y_test = train_test_split(x, y, test_size = 0.3, random_state = 0)"
      ],
      "execution_count": 76,
      "outputs": []
    },
    {
      "cell_type": "markdown",
      "metadata": {
        "id": "BwDAylgDwtC5"
      },
      "source": [
        "# Random Forest"
      ]
    },
    {
      "cell_type": "code",
      "metadata": {
        "colab": {
          "base_uri": "https://localhost:8080/"
        },
        "id": "0aHJdTwhr7vY",
        "outputId": "e621edcd-55d5-416b-bdfc-1ed2ade38ec1"
      },
      "source": [
        "# RandomForestClassifier\n",
        "from sklearn.ensemble import RandomForestClassifier\n",
        "\n",
        "rf_model = RandomForestClassifier()\n",
        "rf_model.fit(x_train, y_train)\n",
        "ytrain_pred = rf_model.predict_proba(x_train)\n",
        "ytest_pred = rf_model.predict_proba(x_test)\n",
        "print(f'RF train roc-auc: {roc_auc_score(y_train, ytrain_pred[:,1])}')\n",
        "print(f'RF test roc-auc: {roc_auc_score(y_test, ytest_pred[:,1])}')"
      ],
      "execution_count": 77,
      "outputs": [
        {
          "output_type": "stream",
          "text": [
            "RF train roc-auc: 1.0\n",
            "RF test roc-auc: 0.9970578420467185\n"
          ],
          "name": "stdout"
        }
      ]
    },
    {
      "cell_type": "code",
      "metadata": {
        "colab": {
          "base_uri": "https://localhost:8080/"
        },
        "id": "w151nuk41weF",
        "outputId": "fa9d381b-81b5-4a01-a8e8-25d4ade4b54d"
      },
      "source": [
        "# We get 2 columns so we choose any one column thats why we take[:,1] in above step\n",
        "ytrain_pred"
      ],
      "execution_count": 78,
      "outputs": [
        {
          "output_type": "execute_result",
          "data": {
            "text/plain": [
              "array([[0.  , 1.  ],\n",
              "       [0.04, 0.96],\n",
              "       [0.  , 1.  ],\n",
              "       ...,\n",
              "       [0.02, 0.98],\n",
              "       [0.  , 1.  ],\n",
              "       [0.02, 0.98]])"
            ]
          },
          "metadata": {
            "tags": []
          },
          "execution_count": 78
        }
      ]
    },
    {
      "cell_type": "markdown",
      "metadata": {
        "id": "GOTQYtI42zTv"
      },
      "source": [
        "# Logistic Regression"
      ]
    },
    {
      "cell_type": "code",
      "metadata": {
        "colab": {
          "base_uri": "https://localhost:8080/"
        },
        "id": "QUeOiJul2N2J",
        "outputId": "5aa14a45-3ad7-4a52-851d-f251c813f16b"
      },
      "source": [
        "from sklearn.linear_model import LogisticRegression\n",
        "\n",
        "lr_model = LogisticRegression()\n",
        "lr_model.fit(x_train, y_train)\n",
        "ytrain_pred = lr_model.predict_proba(x_train)\n",
        "ytest_pred = lr_model.predict_proba(x_test)\n",
        "print(f'LR train roc-auc: {roc_auc_score(y_train, ytrain_pred[:,1])}')\n",
        "print(f'LR test roc-auc: {roc_auc_score(y_test, ytest_pred[:,1])}')"
      ],
      "execution_count": 79,
      "outputs": [
        {
          "output_type": "stream",
          "text": [
            "LR train roc-auc: 0.9964540599686439\n",
            "LR test roc-auc: 0.9949054505005561\n"
          ],
          "name": "stdout"
        }
      ]
    },
    {
      "cell_type": "markdown",
      "metadata": {
        "id": "LjoHkMoq3S21"
      },
      "source": [
        "# Adaboost Classifier"
      ]
    },
    {
      "cell_type": "code",
      "metadata": {
        "colab": {
          "base_uri": "https://localhost:8080/"
        },
        "id": "4jPlXixj4NWV",
        "outputId": "e24a1f4f-058e-46b4-e394-93cdef275270"
      },
      "source": [
        "from sklearn.ensemble import AdaBoostClassifier\n",
        "\n",
        "ada = AdaBoostClassifier()\n",
        "ada.fit(x_train, y_train)\n",
        "ytrain_pred = ada.predict_proba(x_train)\n",
        "ytest_pred = ada.predict_proba(x_test)\n",
        "print(f'ADA train roc-auc: {roc_auc_score(y_train, ytrain_pred[:,1])}')\n",
        "print(f'ADA test roc-auc: {roc_auc_score(y_test, ytest_pred[:,1])}')"
      ],
      "execution_count": 80,
      "outputs": [
        {
          "output_type": "stream",
          "text": [
            "ADA train roc-auc: 1.0\n",
            "ADA test roc-auc: 0.993515016685206\n"
          ],
          "name": "stdout"
        }
      ]
    },
    {
      "cell_type": "markdown",
      "metadata": {
        "id": "eBK_KcnG32ci"
      },
      "source": [
        "# KNNClassifier"
      ]
    },
    {
      "cell_type": "code",
      "metadata": {
        "colab": {
          "base_uri": "https://localhost:8080/"
        },
        "id": "xDId-zjk3Okh",
        "outputId": "34df8a96-e304-410e-adc1-b1dd507e931c"
      },
      "source": [
        "from sklearn.neighbors import KNeighborsClassifier\n",
        "\n",
        "knn = KNeighborsClassifier()\n",
        "knn.fit(x_train, y_train)\n",
        "ytrain_pred = knn.predict_proba(x_train)\n",
        "ytest_pred = knn.predict_proba(x_test)\n",
        "print(f'KNN train roc-auc: {roc_auc_score(y_train, ytrain_pred[:,1])}')\n",
        "print(f'KNN test roc-auc: {roc_auc_score(y_test, ytest_pred[:,1])}')"
      ],
      "execution_count": 81,
      "outputs": [
        {
          "output_type": "stream",
          "text": [
            "KNN train roc-auc: 0.9989109044290567\n",
            "KNN test roc-auc: 0.9934260289210235\n"
          ],
          "name": "stdout"
        }
      ]
    },
    {
      "cell_type": "markdown",
      "metadata": {
        "id": "xQdsp_1W5Onw"
      },
      "source": [
        "# Now we will focus on selecting the best threshold for maximum accuracy"
      ]
    },
    {
      "cell_type": "code",
      "metadata": {
        "colab": {
          "base_uri": "https://localhost:8080/"
        },
        "id": "nHdSw6Ek4v8-",
        "outputId": "7e7f07a8-34f0-4ce1-d06b-477f1a82fa21"
      },
      "source": [
        "# Create an array then store predicted values from all the models in the array and get the roc_auc_score \n",
        "\n",
        "pred = []\n",
        "for model in [rf_model, lr_model, ada, knn]:\n",
        "  pred.append(pd.Series(model.predict_proba(x_test)[:,1]))\n",
        "\n",
        "final_prediction = pd.concat(pred, axis = 1).mean(axis = 1)\n",
        "print(f'Ensemble test roc auc: {roc_auc_score(y_test, final_prediction)}')"
      ],
      "execution_count": 82,
      "outputs": [
        {
          "output_type": "stream",
          "text": [
            "Ensemble test roc auc: 0.9959399332591768\n"
          ],
          "name": "stdout"
        }
      ]
    },
    {
      "cell_type": "code",
      "metadata": {
        "colab": {
          "base_uri": "https://localhost:8080/"
        },
        "id": "Ja2U2bEF6YIb",
        "outputId": "46d58932-b442-481b-b6db-0d3209c0d847"
      },
      "source": [
        "final_prediction"
      ],
      "execution_count": 83,
      "outputs": [
        {
          "output_type": "execute_result",
          "data": {
            "text/plain": [
              "0      0.899539\n",
              "1      0.069676\n",
              "2      0.081214\n",
              "3      0.933734\n",
              "4      0.821480\n",
              "         ...   \n",
              "595    0.897821\n",
              "596    0.132358\n",
              "597    0.183100\n",
              "598    0.070095\n",
              "599    0.839523\n",
              "Length: 600, dtype: float64"
            ]
          },
          "metadata": {
            "tags": []
          },
          "execution_count": 83
        }
      ]
    },
    {
      "cell_type": "markdown",
      "metadata": {
        "id": "k9JmaqUH9YdA"
      },
      "source": [
        "# Calculate the ROc Curve\n"
      ]
    },
    {
      "cell_type": "code",
      "metadata": {
        "colab": {
          "base_uri": "https://localhost:8080/"
        },
        "id": "wiCmlzdh9YEO",
        "outputId": "10bf1705-52d5-4157-8b56-14a07c45ff8c"
      },
      "source": [
        "fpr, tpr, thresholds = roc_curve(y_test, final_prediction)\n",
        "thresholds"
      ],
      "execution_count": 84,
      "outputs": [
        {
          "output_type": "execute_result",
          "data": {
            "text/plain": [
              "array([1.94193923, 0.94193923, 0.63630609, 0.56985102, 0.52536415,\n",
              "       0.13816325, 0.13745243, 0.08217812, 0.08202678, 0.0796917 ,\n",
              "       0.07960453, 0.04386891])"
            ]
          },
          "metadata": {
            "tags": []
          },
          "execution_count": 84
        }
      ]
    },
    {
      "cell_type": "markdown",
      "metadata": {
        "id": "jbO7pSweYt2F"
      },
      "source": [
        "Now we have multiple threshold values, we need to select a best threshold value out of it."
      ]
    },
    {
      "cell_type": "code",
      "metadata": {
        "colab": {
          "base_uri": "https://localhost:8080/",
          "height": 204
        },
        "id": "ULB57VrT7Q5n",
        "outputId": "51539e85-044c-4e7e-c4f6-6df761bb910f"
      },
      "source": [
        "from sklearn.metrics import accuracy_score\n",
        "\n",
        "# We loop through the threshold values and if the value is greater than final_prediction value then we consider it as 1 else 0\n",
        "# then we check for accuracy score and normalize it\n",
        "\n",
        "accuracy_ls = []\n",
        "for thres in thresholds:\n",
        "  y_pred = np.where(final_prediction > thres, 1, 0)\n",
        "  accuracy_ls.append(accuracy_score(y_test, y_pred, normalize = True))\n",
        "\n",
        "# Here we create the dataframe\n",
        "\n",
        "accuracy_ls = pd.concat([pd.Series(thresholds), pd.Series(accuracy_ls)], axis = 1)\n",
        "accuracy_ls.columns = ['thresholds', 'accuracy']\n",
        "accuracy_ls.sort_values(by = 'accuracy', ascending = False, inplace = True)\n",
        "accuracy_ls.head()"
      ],
      "execution_count": 85,
      "outputs": [
        {
          "output_type": "execute_result",
          "data": {
            "text/html": [
              "<div>\n",
              "<style scoped>\n",
              "    .dataframe tbody tr th:only-of-type {\n",
              "        vertical-align: middle;\n",
              "    }\n",
              "\n",
              "    .dataframe tbody tr th {\n",
              "        vertical-align: top;\n",
              "    }\n",
              "\n",
              "    .dataframe thead th {\n",
              "        text-align: right;\n",
              "    }\n",
              "</style>\n",
              "<table border=\"1\" class=\"dataframe\">\n",
              "  <thead>\n",
              "    <tr style=\"text-align: right;\">\n",
              "      <th></th>\n",
              "      <th>thresholds</th>\n",
              "      <th>accuracy</th>\n",
              "    </tr>\n",
              "  </thead>\n",
              "  <tbody>\n",
              "    <tr>\n",
              "      <th>3</th>\n",
              "      <td>0.569851</td>\n",
              "      <td>0.991667</td>\n",
              "    </tr>\n",
              "    <tr>\n",
              "      <th>4</th>\n",
              "      <td>0.525364</td>\n",
              "      <td>0.991667</td>\n",
              "    </tr>\n",
              "    <tr>\n",
              "      <th>2</th>\n",
              "      <td>0.636306</td>\n",
              "      <td>0.990000</td>\n",
              "    </tr>\n",
              "    <tr>\n",
              "      <th>5</th>\n",
              "      <td>0.138163</td>\n",
              "      <td>0.953333</td>\n",
              "    </tr>\n",
              "    <tr>\n",
              "      <th>6</th>\n",
              "      <td>0.137452</td>\n",
              "      <td>0.951667</td>\n",
              "    </tr>\n",
              "  </tbody>\n",
              "</table>\n",
              "</div>"
            ],
            "text/plain": [
              "   thresholds  accuracy\n",
              "3    0.569851  0.991667\n",
              "4    0.525364  0.991667\n",
              "2    0.636306  0.990000\n",
              "5    0.138163  0.953333\n",
              "6    0.137452  0.951667"
            ]
          },
          "metadata": {
            "tags": []
          },
          "execution_count": 85
        }
      ]
    },
    {
      "cell_type": "code",
      "metadata": {
        "id": "97zIytdLAqJv"
      },
      "source": [
        "# Plot of ROC_CURVE\n",
        "\n",
        "def plot_roc_curve(fpr, tpr):\n",
        "  plt.figure(figsize=(15, 10))\n",
        "  plt.plot(fpr, tpr, color = 'orange', label = 'ROC')\n",
        "  plt.plot([0,1], [0,1], color = 'darkblue', linestyle = '--')\n",
        "  plt.xlabel('False Positive Rate')\n",
        "  plt.ylabel('True Positive Rate')\n",
        "  plt.title('Receiver Operating Characteristic (ROC) Curve')\n",
        "  plt.legend()\n",
        "  plt.show()"
      ],
      "execution_count": 86,
      "outputs": []
    },
    {
      "cell_type": "code",
      "metadata": {
        "colab": {
          "base_uri": "https://localhost:8080/",
          "height": 621
        },
        "id": "CTmB8c4zBwLI",
        "outputId": "3941e5c6-e823-42e5-a270-612e75e87486"
      },
      "source": [
        "plot_roc_curve(fpr, tpr)"
      ],
      "execution_count": 87,
      "outputs": [
        {
          "output_type": "display_data",
          "data": {
            "image/png": "[encoded data removed]",
            "text/plain": [
              "<Figure size 1080x720 with 1 Axes>"
            ]
          },
          "metadata": {
            "tags": [],
            "needs_background": "light"
          }
        }
      ]
    }
  ]
}